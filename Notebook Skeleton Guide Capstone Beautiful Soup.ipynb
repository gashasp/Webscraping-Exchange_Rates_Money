{
 "cells": [
  {
   "cell_type": "markdown",
   "metadata": {},
   "source": [
    "# Capstone Webscrapping using BeautifulSoup\n",
    "\n",
    "This notebook contains guidances & tasks on the data processing for the application\n",
    "\n",
    "Webscrapping inflation data on website https://www.exchange-rates.org/\n",
    "![](webcapture.jpg)\n",
    "\n",
    "\n",
    "## Requesting the Data and Creating a BeautifulSoup\n",
    "\n",
    "Let's begin with requesting the web from the site with `get` method."
   ]
  },
  {
   "cell_type": "code",
   "execution_count": 1,
   "metadata": {
    "ExecuteTime": {
     "end_time": "2020-01-13T05:12:23.275508Z",
     "start_time": "2020-01-13T05:12:20.009898Z"
    }
   },
   "outputs": [],
   "source": [
    "#mengambil data html dati link\n",
    "import requests\n",
    "\n",
    "url_get = requests.get('https://www.exchange-rates.org/history/IDR/USD/T')"
   ]
  },
  {
   "cell_type": "markdown",
   "metadata": {},
   "source": [
    "To visualize what exactly you get from the `request.get`, we can use .content so ee what we exactly get, in here i slice it so it won't make our screen full of the html we get from the page. You can delete the slicing if you want to see what we fully get."
   ]
  },
  {
   "cell_type": "code",
   "execution_count": 2,
   "metadata": {
    "ExecuteTime": {
     "end_time": "2020-01-13T05:12:23.290648Z",
     "start_time": "2020-01-13T05:12:23.277650Z"
    }
   },
   "outputs": [
    {
     "data": {
      "text/plain": [
       "b'\\n<!DOCTYPE html>\\r\\n<!--[if lt IE 9]>\\r\\n    <html class=\"no-js ie8 oldie\" lang=\\'en\\' xml:lang=\\'en\\'>\\r\\n<![endif]-->\\r\\n<!--[if gt IE 8]><!--> <html class=\"no-js\" lang=\\'en\\' xml:lang=\\'en\\'> <!--<![endif]-->\\r\\n<head><title>Indonesian Rupiah Exchange Rate - US Dollar - Historical Exchange Rates</title>\\n<meta http-equiv=\"X-UA-Compatible\" content=\"IE=edge\">\\n<meta content=\"C#\" name=\"CODE_LANGUAGE\" />\\n<meta content=\"JavaScript\" name=\"vs_defaultClientScript\" />\\n<meta content=\"http://schemas.microsoft.com/intellisense/ie5\" name=\"vs_targetSchema\" />\\n<meta name=\"viewport\" content=\"width=device-width, initial-scale=1, maximum-scale=5\">\\n<meta http-equiv=\"Content-Type\" content=\"text/html; charset=utf-8\" />\\n\\n<meta name=\"mapping\" content=\"AP\" />\\n<base href=\"https://www.exchange-rates.org/\" />'"
      ]
     },
     "execution_count": 2,
     "metadata": {},
     "output_type": "execute_result"
    }
   ],
   "source": [
    "#melihat data dari link berdasarkan urutan karakter (karakter ke-1 sampai ke-777)\n",
    "url_get.content[1:777]"
   ]
  },
  {
   "cell_type": "markdown",
   "metadata": {},
   "source": [
    "As we can see we get a very unstructured and complex html, which actually contains the codes needed to show the webpages on your web browser. But we as human still confused what and where we can use that piece of code, so here where we use the beautifulsoup. Beautiful soup class will result a beautifulsoup object. Beautiful Soup transforms a complex HTML document into a complex tree of Python objects. \n",
    "\n",
    "Let's make Beautiful soup object and feel free to explore the object here."
   ]
  },
  {
   "cell_type": "code",
   "execution_count": 3,
   "metadata": {
    "ExecuteTime": {
     "end_time": "2020-01-13T05:12:23.808122Z",
     "start_time": "2020-01-13T05:12:23.292610Z"
    }
   },
   "outputs": [
    {
     "name": "stdout",
     "output_type": "stream",
     "text": [
      "<class 'bs4.BeautifulSoup'>\n"
     ]
    }
   ],
   "source": [
    "#mengimport library beautifulsoup\n",
    "from bs4 import BeautifulSoup \n",
    "\n",
    "#membuat variabel bernama soup\n",
    "soup = BeautifulSoup(url_get.content,\"html.parser\")\n",
    "print(type(soup))"
   ]
  },
  {
   "cell_type": "code",
   "execution_count": 4,
   "metadata": {},
   "outputs": [
    {
     "name": "stdout",
     "output_type": "stream",
     "text": [
      "!DOCTYPE html>\n",
      "<!--[if lt IE 9]>\r\n",
      "    <html class=\"no-js ie8 oldie\" lang='en' xml:lang='en'>\r\n",
      "<![endif]-->\n",
      "<!--[if gt IE 8]><!-->\n",
      "<html class=\"no-js\" lang=\"en\" xml:lang=\"en\">\n",
      " <!--<![endif]-->\n",
      " <head>\n",
      "  <title>\n",
      "   Indonesian Rupiah Exchange Rate - US Dollar - Historical Exchange Rates\n",
      "  </title>\n",
      "  <meta content=\"IE=edge\" http-equiv=\"X-UA-Compatible\"/>\n",
      "  <meta content=\"C#\" name=\"CODE_LANGUAGE\">\n",
      "   <meta content=\"JavaScript\" name=\"vs_defaultClientScript\"/>\n",
      "   <meta content=\"http://schemas.microsoft.com/intellisense/ie5\" name=\"vs_targetSchema\"/>\n",
      "   <meta content=\"width=device-width, initial-scale=1, maximum-scale=5\" name=\"viewport\"/>\n",
      "   <meta content=\"text/html; charset=utf-8\" http-equiv=\"Content-Type\">\n",
      "    <meta content=\"AP\" name=\"mapping\"/>\n",
      "    <base href=\"https://ww\n"
     ]
    }
   ],
   "source": [
    "#melihat tampilan data soup dengan lebih baik (dengan pretiify)\n",
    "print(soup.prettify()[1:777])"
   ]
  },
  {
   "cell_type": "markdown",
   "metadata": {},
   "source": [
    "## Finding the right key to scrap the data & Extracting the right information"
   ]
  },
  {
   "cell_type": "markdown",
   "metadata": {},
   "source": [
    "Find the key and put the key into the `.find()` Put all the exploring the right key at this cell. (please change this markdown with your explanation)"
   ]
  },
  {
   "cell_type": "code",
   "execution_count": 5,
   "metadata": {
    "ExecuteTime": {
     "end_time": "2020-01-13T05:12:23.878904Z",
     "start_time": "2020-01-13T05:12:23.854974Z"
    },
    "scrolled": false
   },
   "outputs": [
    {
     "name": "stdout",
     "output_type": "stream",
     "text": [
      "table class=\"table table-striped table-hover table-hover-solid-row table-simple history-data\">\n",
      " <tbody>\n",
      "  <tr>\n",
      "   <td>\n",
      "    3/11/2021\n",
      "   </td>\n",
      "   <td>\n",
      "    Thursday\n",
      "   </td>\n",
      "   <td>\n",
      "    <a href=\"/Rate/\n"
     ]
    }
   ],
   "source": [
    "#mengambil data html dengan karakter 1 sampai 500\n",
    "table = soup.find(\"table\", attrs={\"class\" : \"table table-striped table-hover table-hover-solid-row table-simple history-data\"})\n",
    "print(table.prettify()[1:200])"
   ]
  },
  {
   "cell_type": "markdown",
   "metadata": {},
   "source": [
    "+ tb = table header\n",
    "+ tr = table row\n",
    "+ td = table cell"
   ]
  },
  {
   "cell_type": "code",
   "execution_count": 6,
   "metadata": {
    "scrolled": false
   },
   "outputs": [
    {
     "data": {
      "text/plain": [
       "[<tr><td>3/11/2021</td><td>Thursday</td><td><a href=\"/Rate/USD/IDR/3-11-2021\">14,319.87571</a> IDR</td><td class=\"text-narrow-screen-hidden\"><a href=\"/Rate/USD/IDR/3-11-2021\">USD IDR rate for 3/11/2021</a></td></tr>,\n",
       " <tr><td>3/10/2021</td><td>Wednesday</td><td><a href=\"/Rate/USD/IDR/3-10-2021\">14,387.89293</a> IDR</td><td class=\"text-narrow-screen-hidden\"><a href=\"/Rate/USD/IDR/3-10-2021\">USD IDR rate for 3/10/2021</a></td></tr>,\n",
       " <tr><td>3/9/2021</td><td>Tuesday</td><td><a href=\"/Rate/USD/IDR/3-9-2021\">14,396.25662</a> IDR</td><td class=\"text-narrow-screen-hidden\"><a href=\"/Rate/USD/IDR/3-9-2021\">USD IDR rate for 3/9/2021</a></td></tr>]"
      ]
     },
     "execution_count": 6,
     "metadata": {},
     "output_type": "execute_result"
    }
   ],
   "source": [
    "#mengambil tabelrow dari 1 sampai 3\n",
    "tr = table.find_all(\"tr\")\n",
    "tr[:3]"
   ]
  },
  {
   "cell_type": "markdown",
   "metadata": {},
   "source": [
    "Do the scrapping process here (please change this markdown with your explanation)"
   ]
  },
  {
   "cell_type": "code",
   "execution_count": 9,
   "metadata": {
    "scrolled": false
   },
   "outputs": [
    {
     "data": {
      "text/plain": [
       "[('3/11/2021', 'Thursday', '14,319.87571 IDR'),\n",
       " ('3/10/2021', 'Wednesday', '14,387.89293 IDR'),\n",
       " ('3/9/2021', 'Tuesday', '14,396.25662 IDR'),\n",
       " ('3/8/2021', 'Monday', '14,374.33106 IDR'),\n",
       " ('3/5/2021', 'Friday', '14,292.17893 IDR'),\n",
       " ('3/4/2021', 'Thursday', '14,261.85426 IDR'),\n",
       " ('3/3/2021', 'Wednesday', '14,257.29443 IDR'),\n",
       " ('3/2/2021', 'Tuesday', '14,256.28041 IDR'),\n",
       " ('3/1/2021', 'Monday', '14,248.60576 IDR'),\n",
       " ('2/26/2021', 'Friday', '14,300.27815 IDR'),\n",
       " ('2/25/2021', 'Thursday', '14,139.73096 IDR'),\n",
       " ('2/24/2021', 'Wednesday', '14,083.03673 IDR'),\n",
       " ('2/22/2021', 'Monday', '14,118.07274 IDR'),\n",
       " ('2/19/2021', 'Friday', '14,066.79375 IDR'),\n",
       " ('2/18/2021', 'Thursday', '14,013.51318 IDR'),\n",
       " ('2/17/2021', 'Wednesday', '14,015.16095 IDR'),\n",
       " ('2/16/2021', 'Tuesday', '13,935.96629 IDR'),\n",
       " ('2/15/2021', 'Monday', '13,918.18725 IDR'),\n",
       " ('2/12/2021', 'Friday', '13,988.54710 IDR'),\n",
       " ('2/11/2021', 'Thursday', '13,982.27900 IDR'),\n",
       " ('2/10/2021', 'Wednesday', '13,994.09212 IDR'),\n",
       " ('2/9/2021', 'Tuesday', '13,920.52018 IDR'),\n",
       " ('2/8/2021', 'Monday', '14,007.25257 IDR'),\n",
       " ('2/5/2021', 'Friday', '14,008.99630 IDR'),\n",
       " ('2/4/2021', 'Thursday', '14,020.87878 IDR'),\n",
       " ('2/3/2021', 'Wednesday', '13,997.60682 IDR'),\n",
       " ('2/2/2021', 'Tuesday', '14,004.60175 IDR'),\n",
       " ('2/1/2021', 'Monday', '14,025.27450 IDR'),\n",
       " ('1/29/2021', 'Friday', '14,027.32457 IDR'),\n",
       " ('1/28/2021', 'Thursday', '14,048.06146 IDR'),\n",
       " ('1/27/2021', 'Wednesday', '14,048.72649 IDR'),\n",
       " ('1/26/2021', 'Tuesday', '14,062.91108 IDR'),\n",
       " ('1/25/2021', 'Monday', '14,021.11609 IDR'),\n",
       " ('1/22/2021', 'Friday', '14,025.60268 IDR'),\n",
       " ('1/20/2021', 'Wednesday', '14,021.43046 IDR'),\n",
       " ('1/19/2021', 'Tuesday', '14,063.60877 IDR'),\n",
       " ('1/18/2021', 'Monday', '14,055.43768 IDR'),\n",
       " ('1/15/2021', 'Friday', '14,153.46654 IDR'),\n",
       " ('1/14/2021', 'Thursday', '14,070.58746 IDR'),\n",
       " ('1/13/2021', 'Wednesday', '14,125.90174 IDR'),\n",
       " ('1/12/2021', 'Tuesday', '14,074.81444 IDR'),\n",
       " ('1/11/2021', 'Monday', '14,137.24151 IDR'),\n",
       " ('1/8/2021', 'Friday', '13,991.16348 IDR'),\n",
       " ('1/7/2021', 'Thursday', '13,905.64377 IDR'),\n",
       " ('1/6/2021', 'Wednesday', '13,861.51463 IDR'),\n",
       " ('1/5/2021', 'Tuesday', '13,906.05686 IDR'),\n",
       " ('1/4/2021', 'Monday', '14,015.86887 IDR'),\n",
       " ('1/1/2021', 'Friday', '14,213.67526 IDR'),\n",
       " ('12/31/2020', 'Thursday', '14,120.57461 IDR'),\n",
       " ('12/30/2020', 'Wednesday', '14,020.01350 IDR'),\n",
       " ('12/29/2020', 'Tuesday', '14,108.18177 IDR'),\n",
       " ('12/28/2020', 'Monday', '14,139.81753 IDR'),\n",
       " ('12/25/2020', 'Friday', '14,211.65343 IDR'),\n",
       " ('12/24/2020', 'Thursday', '14,188.41293 IDR'),\n",
       " ('12/23/2020', 'Wednesday', '14,183.64082 IDR'),\n",
       " ('12/22/2020', 'Tuesday', '14,164.98134 IDR'),\n",
       " ('12/21/2020', 'Monday', '14,124.20148 IDR'),\n",
       " ('12/18/2020', 'Friday', '14,101.05758 IDR'),\n",
       " ('12/17/2020', 'Thursday', '14,101.72807 IDR'),\n",
       " ('12/16/2020', 'Wednesday', '14,084.50704 IDR'),\n",
       " ('12/15/2020', 'Tuesday', '14,124.19150 IDR'),\n",
       " ('12/14/2020', 'Monday', '14,087.17417 IDR'),\n",
       " ('12/11/2020', 'Friday', '14,076.36739 IDR'),\n",
       " ('12/10/2020', 'Thursday', '14,103.70444 IDR'),\n",
       " ('12/9/2020', 'Wednesday', '14,096.39851 IDR'),\n",
       " ('12/8/2020', 'Tuesday', '14,105.04229 IDR'),\n",
       " ('12/7/2020', 'Monday', '14,103.58039 IDR'),\n",
       " ('12/4/2020', 'Friday', '14,092.75807 IDR'),\n",
       " ('12/3/2020', 'Thursday', '14,109.15139 IDR'),\n",
       " ('12/2/2020', 'Wednesday', '14,094.65785 IDR'),\n",
       " ('12/1/2020', 'Tuesday', '14,118.51435 IDR'),\n",
       " ('11/30/2020', 'Monday', '14,114.11663 IDR'),\n",
       " ('11/27/2020', 'Friday', '14,078.12448 IDR'),\n",
       " ('11/26/2020', 'Thursday', '14,090.70769 IDR'),\n",
       " ('11/25/2020', 'Wednesday', '14,136.09929 IDR'),\n",
       " ('11/24/2020', 'Tuesday', '14,137.48161 IDR'),\n",
       " ('11/23/2020', 'Monday', '14,185.57119 IDR'),\n",
       " ('11/20/2020', 'Friday', '14,162.60519 IDR'),\n",
       " ('11/19/2020', 'Thursday', '14,165.50144 IDR'),\n",
       " ('11/18/2020', 'Wednesday', '14,051.29503 IDR'),\n",
       " ('11/17/2020', 'Tuesday', '14,040.16051 IDR'),\n",
       " ('11/16/2020', 'Monday', '14,085.69501 IDR'),\n",
       " ('11/13/2020', 'Friday', '14,142.77143 IDR'),\n",
       " ('11/12/2020', 'Thursday', '14,141.24303 IDR'),\n",
       " ('11/11/2020', 'Wednesday', '14,073.46024 IDR'),\n",
       " ('11/10/2020', 'Tuesday', '14,053.76135 IDR'),\n",
       " ('11/9/2020', 'Monday', '14,283.29667 IDR'),\n",
       " ('11/6/2020', 'Friday', '14,214.49744 IDR'),\n",
       " ('11/5/2020', 'Thursday', '14,389.14027 IDR'),\n",
       " ('11/4/2020', 'Wednesday', '14,544.44634 IDR'),\n",
       " ('11/3/2020', 'Tuesday', '14,589.01774 IDR'),\n",
       " ('11/2/2020', 'Monday', '14,612.89990 IDR'),\n",
       " ('10/30/2020', 'Friday', '14,629.16216 IDR'),\n",
       " ('10/29/2020', 'Thursday', '14,701.62361 IDR'),\n",
       " ('10/28/2020', 'Wednesday', '14,701.92586 IDR'),\n",
       " ('10/27/2020', 'Tuesday', '14,649.78960 IDR'),\n",
       " ('10/26/2020', 'Monday', '14,652.88010 IDR'),\n",
       " ('10/23/2020', 'Friday', '14,655.04157 IDR'),\n",
       " ('10/22/2020', 'Thursday', '14,647.90877 IDR'),\n",
       " ('10/21/2020', 'Wednesday', '14,641.61060 IDR'),\n",
       " ('10/20/2020', 'Tuesday', '14,555.88071 IDR'),\n",
       " ('10/19/2020', 'Monday', '14,705.13256 IDR'),\n",
       " ('10/16/2020', 'Friday', '14,688.43616 IDR'),\n",
       " ('10/15/2020', 'Thursday', '14,667.95340 IDR'),\n",
       " ('10/14/2020', 'Wednesday', '14,696.21912 IDR'),\n",
       " ('10/13/2020', 'Tuesday', '14,687.35100 IDR'),\n",
       " ('10/12/2020', 'Monday', '14,677.85296 IDR'),\n",
       " ('10/9/2020', 'Friday', '14,679.27910 IDR'),\n",
       " ('10/8/2020', 'Thursday', '14,692.93025 IDR'),\n",
       " ('10/7/2020', 'Wednesday', '14,705.58246 IDR'),\n",
       " ('10/6/2020', 'Tuesday', '14,857.67854 IDR'),\n",
       " ('10/5/2020', 'Monday', '14,797.90178 IDR'),\n",
       " ('10/2/2020', 'Friday', '14,852.30483 IDR'),\n",
       " ('10/1/2020', 'Thursday', '14,822.66605 IDR'),\n",
       " ('9/30/2020', 'Wednesday', '14,867.44686 IDR'),\n",
       " ('9/29/2020', 'Tuesday', '14,880.93210 IDR'),\n",
       " ('9/28/2020', 'Monday', '14,892.32194 IDR'),\n",
       " ('9/27/2020', 'Sunday', '14,859.98349 IDR'),\n",
       " ('9/25/2020', 'Friday', '14,855.63943 IDR'),\n",
       " ('9/24/2020', 'Thursday', '14,888.78607 IDR'),\n",
       " ('9/23/2020', 'Wednesday', '14,825.54899 IDR'),\n",
       " ('9/22/2020', 'Tuesday', '14,751.85786 IDR'),\n",
       " ('9/21/2020', 'Monday', '14,701.43420 IDR'),\n",
       " ('9/20/2020', 'Sunday', '14,728.84529 IDR'),\n",
       " ('9/18/2020', 'Friday', '14,730.71792 IDR'),\n",
       " ('9/17/2020', 'Thursday', '14,829.41738 IDR'),\n",
       " ('9/16/2020', 'Wednesday', '14,807.88761 IDR'),\n",
       " ('9/15/2020', 'Tuesday', '14,843.44670 IDR'),\n",
       " ('9/14/2020', 'Monday', '14,864.65988 IDR'),\n",
       " ('9/13/2020', 'Sunday', '14,876.45021 IDR')]"
      ]
     },
     "execution_count": 9,
     "metadata": {},
     "output_type": "execute_result"
    }
   ],
   "source": [
    "temp = [] #initiating a tuple\n",
    "\n",
    "for i in range(0, 12):\n",
    "    row = table.find_all(\"tr\")[i]\n",
    "\n",
    "    date = row.find_all(\"td\")[0].text\n",
    "    date = date.strip()\n",
    "    \n",
    "    day = row.find_all(\"td\")[1].text\n",
    "    day = day.strip()\n",
    "    \n",
    "    inflation = row.find_all(\"td\")[2].text\n",
    "    inflation = inflation.strip()\n",
    "    \n",
    "    temp.append((date,day,inflation))\n",
    "    \n",
    "for i in range(14, 36):\n",
    "    row = table.find_all(\"tr\")[i]\n",
    "\n",
    "    date = row.find_all(\"td\")[0].text\n",
    "    date = date.strip()\n",
    "    \n",
    "    day = row.find_all(\"td\")[1].text\n",
    "    day = day.strip()\n",
    "    \n",
    "    inflation = row.find_all(\"td\")[2].text\n",
    "    inflation = inflation.strip()\n",
    "    \n",
    "    temp.append((date,day,inflation))\n",
    "    \n",
    "for i in range(38, 134):\n",
    "    row = table.find_all(\"tr\")[i]\n",
    "\n",
    "    date = row.find_all(\"td\")[0].text\n",
    "    date = date.strip()\n",
    "    \n",
    "    day = row.find_all(\"td\")[1].text\n",
    "    day = day.strip()\n",
    "    \n",
    "    inflation = row.find_all(\"td\")[2].text\n",
    "    inflation = inflation.strip()\n",
    "    \n",
    "    temp.append((date,day,inflation))\n",
    "\n",
    "temp"
   ]
  },
  {
   "cell_type": "code",
   "execution_count": 10,
   "metadata": {
    "scrolled": false
   },
   "outputs": [
    {
     "data": {
      "text/plain": [
       "[('9/13/2020', 'Sunday', '14,876.45021 IDR'),\n",
       " ('9/14/2020', 'Monday', '14,864.65988 IDR'),\n",
       " ('9/15/2020', 'Tuesday', '14,843.44670 IDR'),\n",
       " ('9/16/2020', 'Wednesday', '14,807.88761 IDR'),\n",
       " ('9/17/2020', 'Thursday', '14,829.41738 IDR'),\n",
       " ('9/18/2020', 'Friday', '14,730.71792 IDR'),\n",
       " ('9/20/2020', 'Sunday', '14,728.84529 IDR'),\n",
       " ('9/21/2020', 'Monday', '14,701.43420 IDR'),\n",
       " ('9/22/2020', 'Tuesday', '14,751.85786 IDR'),\n",
       " ('9/23/2020', 'Wednesday', '14,825.54899 IDR'),\n",
       " ('9/24/2020', 'Thursday', '14,888.78607 IDR'),\n",
       " ('9/25/2020', 'Friday', '14,855.63943 IDR'),\n",
       " ('9/27/2020', 'Sunday', '14,859.98349 IDR'),\n",
       " ('9/28/2020', 'Monday', '14,892.32194 IDR'),\n",
       " ('9/29/2020', 'Tuesday', '14,880.93210 IDR'),\n",
       " ('9/30/2020', 'Wednesday', '14,867.44686 IDR'),\n",
       " ('10/1/2020', 'Thursday', '14,822.66605 IDR'),\n",
       " ('10/2/2020', 'Friday', '14,852.30483 IDR'),\n",
       " ('10/5/2020', 'Monday', '14,797.90178 IDR'),\n",
       " ('10/6/2020', 'Tuesday', '14,857.67854 IDR'),\n",
       " ('10/7/2020', 'Wednesday', '14,705.58246 IDR'),\n",
       " ('10/8/2020', 'Thursday', '14,692.93025 IDR'),\n",
       " ('10/9/2020', 'Friday', '14,679.27910 IDR'),\n",
       " ('10/12/2020', 'Monday', '14,677.85296 IDR'),\n",
       " ('10/13/2020', 'Tuesday', '14,687.35100 IDR'),\n",
       " ('10/14/2020', 'Wednesday', '14,696.21912 IDR'),\n",
       " ('10/15/2020', 'Thursday', '14,667.95340 IDR'),\n",
       " ('10/16/2020', 'Friday', '14,688.43616 IDR'),\n",
       " ('10/19/2020', 'Monday', '14,705.13256 IDR'),\n",
       " ('10/20/2020', 'Tuesday', '14,555.88071 IDR'),\n",
       " ('10/21/2020', 'Wednesday', '14,641.61060 IDR'),\n",
       " ('10/22/2020', 'Thursday', '14,647.90877 IDR'),\n",
       " ('10/23/2020', 'Friday', '14,655.04157 IDR'),\n",
       " ('10/26/2020', 'Monday', '14,652.88010 IDR'),\n",
       " ('10/27/2020', 'Tuesday', '14,649.78960 IDR'),\n",
       " ('10/28/2020', 'Wednesday', '14,701.92586 IDR'),\n",
       " ('10/29/2020', 'Thursday', '14,701.62361 IDR'),\n",
       " ('10/30/2020', 'Friday', '14,629.16216 IDR'),\n",
       " ('11/2/2020', 'Monday', '14,612.89990 IDR'),\n",
       " ('11/3/2020', 'Tuesday', '14,589.01774 IDR'),\n",
       " ('11/4/2020', 'Wednesday', '14,544.44634 IDR'),\n",
       " ('11/5/2020', 'Thursday', '14,389.14027 IDR'),\n",
       " ('11/6/2020', 'Friday', '14,214.49744 IDR'),\n",
       " ('11/9/2020', 'Monday', '14,283.29667 IDR'),\n",
       " ('11/10/2020', 'Tuesday', '14,053.76135 IDR'),\n",
       " ('11/11/2020', 'Wednesday', '14,073.46024 IDR'),\n",
       " ('11/12/2020', 'Thursday', '14,141.24303 IDR'),\n",
       " ('11/13/2020', 'Friday', '14,142.77143 IDR'),\n",
       " ('11/16/2020', 'Monday', '14,085.69501 IDR'),\n",
       " ('11/17/2020', 'Tuesday', '14,040.16051 IDR'),\n",
       " ('11/18/2020', 'Wednesday', '14,051.29503 IDR'),\n",
       " ('11/19/2020', 'Thursday', '14,165.50144 IDR'),\n",
       " ('11/20/2020', 'Friday', '14,162.60519 IDR'),\n",
       " ('11/23/2020', 'Monday', '14,185.57119 IDR'),\n",
       " ('11/24/2020', 'Tuesday', '14,137.48161 IDR'),\n",
       " ('11/25/2020', 'Wednesday', '14,136.09929 IDR'),\n",
       " ('11/26/2020', 'Thursday', '14,090.70769 IDR'),\n",
       " ('11/27/2020', 'Friday', '14,078.12448 IDR'),\n",
       " ('11/30/2020', 'Monday', '14,114.11663 IDR'),\n",
       " ('12/1/2020', 'Tuesday', '14,118.51435 IDR'),\n",
       " ('12/2/2020', 'Wednesday', '14,094.65785 IDR'),\n",
       " ('12/3/2020', 'Thursday', '14,109.15139 IDR'),\n",
       " ('12/4/2020', 'Friday', '14,092.75807 IDR'),\n",
       " ('12/7/2020', 'Monday', '14,103.58039 IDR'),\n",
       " ('12/8/2020', 'Tuesday', '14,105.04229 IDR'),\n",
       " ('12/9/2020', 'Wednesday', '14,096.39851 IDR'),\n",
       " ('12/10/2020', 'Thursday', '14,103.70444 IDR'),\n",
       " ('12/11/2020', 'Friday', '14,076.36739 IDR'),\n",
       " ('12/14/2020', 'Monday', '14,087.17417 IDR'),\n",
       " ('12/15/2020', 'Tuesday', '14,124.19150 IDR'),\n",
       " ('12/16/2020', 'Wednesday', '14,084.50704 IDR'),\n",
       " ('12/17/2020', 'Thursday', '14,101.72807 IDR'),\n",
       " ('12/18/2020', 'Friday', '14,101.05758 IDR'),\n",
       " ('12/21/2020', 'Monday', '14,124.20148 IDR'),\n",
       " ('12/22/2020', 'Tuesday', '14,164.98134 IDR'),\n",
       " ('12/23/2020', 'Wednesday', '14,183.64082 IDR'),\n",
       " ('12/24/2020', 'Thursday', '14,188.41293 IDR'),\n",
       " ('12/25/2020', 'Friday', '14,211.65343 IDR'),\n",
       " ('12/28/2020', 'Monday', '14,139.81753 IDR'),\n",
       " ('12/29/2020', 'Tuesday', '14,108.18177 IDR'),\n",
       " ('12/30/2020', 'Wednesday', '14,020.01350 IDR'),\n",
       " ('12/31/2020', 'Thursday', '14,120.57461 IDR'),\n",
       " ('1/1/2021', 'Friday', '14,213.67526 IDR'),\n",
       " ('1/4/2021', 'Monday', '14,015.86887 IDR'),\n",
       " ('1/5/2021', 'Tuesday', '13,906.05686 IDR'),\n",
       " ('1/6/2021', 'Wednesday', '13,861.51463 IDR'),\n",
       " ('1/7/2021', 'Thursday', '13,905.64377 IDR'),\n",
       " ('1/8/2021', 'Friday', '13,991.16348 IDR'),\n",
       " ('1/11/2021', 'Monday', '14,137.24151 IDR'),\n",
       " ('1/12/2021', 'Tuesday', '14,074.81444 IDR'),\n",
       " ('1/13/2021', 'Wednesday', '14,125.90174 IDR'),\n",
       " ('1/14/2021', 'Thursday', '14,070.58746 IDR'),\n",
       " ('1/15/2021', 'Friday', '14,153.46654 IDR'),\n",
       " ('1/18/2021', 'Monday', '14,055.43768 IDR'),\n",
       " ('1/19/2021', 'Tuesday', '14,063.60877 IDR'),\n",
       " ('1/20/2021', 'Wednesday', '14,021.43046 IDR'),\n",
       " ('1/22/2021', 'Friday', '14,025.60268 IDR'),\n",
       " ('1/25/2021', 'Monday', '14,021.11609 IDR'),\n",
       " ('1/26/2021', 'Tuesday', '14,062.91108 IDR'),\n",
       " ('1/27/2021', 'Wednesday', '14,048.72649 IDR'),\n",
       " ('1/28/2021', 'Thursday', '14,048.06146 IDR'),\n",
       " ('1/29/2021', 'Friday', '14,027.32457 IDR'),\n",
       " ('2/1/2021', 'Monday', '14,025.27450 IDR'),\n",
       " ('2/2/2021', 'Tuesday', '14,004.60175 IDR'),\n",
       " ('2/3/2021', 'Wednesday', '13,997.60682 IDR'),\n",
       " ('2/4/2021', 'Thursday', '14,020.87878 IDR'),\n",
       " ('2/5/2021', 'Friday', '14,008.99630 IDR'),\n",
       " ('2/8/2021', 'Monday', '14,007.25257 IDR'),\n",
       " ('2/9/2021', 'Tuesday', '13,920.52018 IDR'),\n",
       " ('2/10/2021', 'Wednesday', '13,994.09212 IDR'),\n",
       " ('2/11/2021', 'Thursday', '13,982.27900 IDR'),\n",
       " ('2/12/2021', 'Friday', '13,988.54710 IDR'),\n",
       " ('2/15/2021', 'Monday', '13,918.18725 IDR'),\n",
       " ('2/16/2021', 'Tuesday', '13,935.96629 IDR'),\n",
       " ('2/17/2021', 'Wednesday', '14,015.16095 IDR'),\n",
       " ('2/18/2021', 'Thursday', '14,013.51318 IDR'),\n",
       " ('2/19/2021', 'Friday', '14,066.79375 IDR'),\n",
       " ('2/22/2021', 'Monday', '14,118.07274 IDR'),\n",
       " ('2/24/2021', 'Wednesday', '14,083.03673 IDR'),\n",
       " ('2/25/2021', 'Thursday', '14,139.73096 IDR'),\n",
       " ('2/26/2021', 'Friday', '14,300.27815 IDR'),\n",
       " ('3/1/2021', 'Monday', '14,248.60576 IDR'),\n",
       " ('3/2/2021', 'Tuesday', '14,256.28041 IDR'),\n",
       " ('3/3/2021', 'Wednesday', '14,257.29443 IDR'),\n",
       " ('3/4/2021', 'Thursday', '14,261.85426 IDR'),\n",
       " ('3/5/2021', 'Friday', '14,292.17893 IDR'),\n",
       " ('3/8/2021', 'Monday', '14,374.33106 IDR'),\n",
       " ('3/9/2021', 'Tuesday', '14,396.25662 IDR'),\n",
       " ('3/10/2021', 'Wednesday', '14,387.89293 IDR'),\n",
       " ('3/11/2021', 'Thursday', '14,319.87571 IDR')]"
      ]
     },
     "execution_count": 10,
     "metadata": {},
     "output_type": "execute_result"
    }
   ],
   "source": [
    "temp = temp[::-1]\n",
    "temp"
   ]
  },
  {
   "cell_type": "markdown",
   "metadata": {},
   "source": [
    "## Creating data frame & Data wrangling"
   ]
  },
  {
   "cell_type": "markdown",
   "metadata": {},
   "source": [
    "Put the array into dataframe"
   ]
  },
  {
   "cell_type": "code",
   "execution_count": 15,
   "metadata": {
    "ExecuteTime": {
     "end_time": "2020-01-13T05:12:41.517372Z",
     "start_time": "2020-01-13T05:12:29.130015Z"
    }
   },
   "outputs": [
    {
     "data": {
      "text/html": [
       "<div>\n",
       "<style scoped>\n",
       "    .dataframe tbody tr th:only-of-type {\n",
       "        vertical-align: middle;\n",
       "    }\n",
       "\n",
       "    .dataframe tbody tr th {\n",
       "        vertical-align: top;\n",
       "    }\n",
       "\n",
       "    .dataframe thead th {\n",
       "        text-align: right;\n",
       "    }\n",
       "</style>\n",
       "<table border=\"1\" class=\"dataframe\">\n",
       "  <thead>\n",
       "    <tr style=\"text-align: right;\">\n",
       "      <th></th>\n",
       "      <th>date</th>\n",
       "      <th>day</th>\n",
       "      <th>inflation</th>\n",
       "    </tr>\n",
       "  </thead>\n",
       "  <tbody>\n",
       "    <tr>\n",
       "      <th>0</th>\n",
       "      <td>9/13/2020</td>\n",
       "      <td>Sunday</td>\n",
       "      <td>14,876.45021 IDR</td>\n",
       "    </tr>\n",
       "    <tr>\n",
       "      <th>1</th>\n",
       "      <td>9/14/2020</td>\n",
       "      <td>Monday</td>\n",
       "      <td>14,864.65988 IDR</td>\n",
       "    </tr>\n",
       "    <tr>\n",
       "      <th>2</th>\n",
       "      <td>9/15/2020</td>\n",
       "      <td>Tuesday</td>\n",
       "      <td>14,843.44670 IDR</td>\n",
       "    </tr>\n",
       "    <tr>\n",
       "      <th>3</th>\n",
       "      <td>9/16/2020</td>\n",
       "      <td>Wednesday</td>\n",
       "      <td>14,807.88761 IDR</td>\n",
       "    </tr>\n",
       "    <tr>\n",
       "      <th>4</th>\n",
       "      <td>9/17/2020</td>\n",
       "      <td>Thursday</td>\n",
       "      <td>14,829.41738 IDR</td>\n",
       "    </tr>\n",
       "  </tbody>\n",
       "</table>\n",
       "</div>"
      ],
      "text/plain": [
       "        date        day         inflation\n",
       "0  9/13/2020     Sunday  14,876.45021 IDR\n",
       "1  9/14/2020     Monday  14,864.65988 IDR\n",
       "2  9/15/2020    Tuesday  14,843.44670 IDR\n",
       "3  9/16/2020  Wednesday  14,807.88761 IDR\n",
       "4  9/17/2020   Thursday  14,829.41738 IDR"
      ]
     },
     "execution_count": 15,
     "metadata": {},
     "output_type": "execute_result"
    }
   ],
   "source": [
    "import pandas as pd\n",
    "\n",
    "df = pd.DataFrame(temp, columns=(\"date\",\"day\",\"inflation\"))\n",
    "df.head()"
   ]
  },
  {
   "cell_type": "code",
   "execution_count": 16,
   "metadata": {},
   "outputs": [
    {
     "data": {
      "text/html": [
       "<div>\n",
       "<style scoped>\n",
       "    .dataframe tbody tr th:only-of-type {\n",
       "        vertical-align: middle;\n",
       "    }\n",
       "\n",
       "    .dataframe tbody tr th {\n",
       "        vertical-align: top;\n",
       "    }\n",
       "\n",
       "    .dataframe thead th {\n",
       "        text-align: right;\n",
       "    }\n",
       "</style>\n",
       "<table border=\"1\" class=\"dataframe\">\n",
       "  <thead>\n",
       "    <tr style=\"text-align: right;\">\n",
       "      <th></th>\n",
       "      <th>date</th>\n",
       "      <th>day</th>\n",
       "      <th>inflation</th>\n",
       "    </tr>\n",
       "  </thead>\n",
       "  <tbody>\n",
       "    <tr>\n",
       "      <th>0</th>\n",
       "      <td>9/13/2020</td>\n",
       "      <td>Sunday</td>\n",
       "      <td>14876.45021</td>\n",
       "    </tr>\n",
       "    <tr>\n",
       "      <th>1</th>\n",
       "      <td>9/14/2020</td>\n",
       "      <td>Monday</td>\n",
       "      <td>14864.65988</td>\n",
       "    </tr>\n",
       "    <tr>\n",
       "      <th>2</th>\n",
       "      <td>9/15/2020</td>\n",
       "      <td>Tuesday</td>\n",
       "      <td>14843.44670</td>\n",
       "    </tr>\n",
       "    <tr>\n",
       "      <th>3</th>\n",
       "      <td>9/16/2020</td>\n",
       "      <td>Wednesday</td>\n",
       "      <td>14807.88761</td>\n",
       "    </tr>\n",
       "    <tr>\n",
       "      <th>4</th>\n",
       "      <td>9/17/2020</td>\n",
       "      <td>Thursday</td>\n",
       "      <td>14829.41738</td>\n",
       "    </tr>\n",
       "  </tbody>\n",
       "</table>\n",
       "</div>"
      ],
      "text/plain": [
       "        date        day    inflation\n",
       "0  9/13/2020     Sunday  14876.45021\n",
       "1  9/14/2020     Monday  14864.65988\n",
       "2  9/15/2020    Tuesday  14843.44670\n",
       "3  9/16/2020  Wednesday  14807.88761\n",
       "4  9/17/2020   Thursday  14829.41738"
      ]
     },
     "execution_count": 16,
     "metadata": {},
     "output_type": "execute_result"
    }
   ],
   "source": [
    "df[\"inflation\"] = df[\"inflation\"].str.replace(\" IDR\",\"\")\n",
    "df[\"inflation\"] = df[\"inflation\"].str.replace(\",\",\"\")\n",
    "df.head()"
   ]
  },
  {
   "cell_type": "code",
   "execution_count": 17,
   "metadata": {},
   "outputs": [
    {
     "name": "stdout",
     "output_type": "stream",
     "text": [
      "<class 'pandas.core.frame.DataFrame'>\n",
      "RangeIndex: 130 entries, 0 to 129\n",
      "Data columns (total 3 columns):\n",
      " #   Column     Non-Null Count  Dtype         \n",
      "---  ------     --------------  -----         \n",
      " 0   date       130 non-null    datetime64[ns]\n",
      " 1   day        130 non-null    object        \n",
      " 2   inflation  130 non-null    float64       \n",
      "dtypes: datetime64[ns](1), float64(1), object(1)\n",
      "memory usage: 3.2+ KB\n"
     ]
    }
   ],
   "source": [
    "df[\"date\"] = pd.to_datetime(df[\"date\"], dayfirst=True)\n",
    "df[\"inflation\"] = df[\"inflation\"].astype(\"float64\")\n",
    "df.info()"
   ]
  },
  {
   "cell_type": "code",
   "execution_count": 18,
   "metadata": {
    "scrolled": true
   },
   "outputs": [
    {
     "data": {
      "text/html": [
       "<div>\n",
       "<style scoped>\n",
       "    .dataframe tbody tr th:only-of-type {\n",
       "        vertical-align: middle;\n",
       "    }\n",
       "\n",
       "    .dataframe tbody tr th {\n",
       "        vertical-align: top;\n",
       "    }\n",
       "\n",
       "    .dataframe thead th {\n",
       "        text-align: right;\n",
       "    }\n",
       "</style>\n",
       "<table border=\"1\" class=\"dataframe\">\n",
       "  <thead>\n",
       "    <tr style=\"text-align: right;\">\n",
       "      <th></th>\n",
       "      <th>date</th>\n",
       "      <th>day</th>\n",
       "      <th>inflation</th>\n",
       "    </tr>\n",
       "  </thead>\n",
       "  <tbody>\n",
       "    <tr>\n",
       "      <th>0</th>\n",
       "      <td>13-09-2020</td>\n",
       "      <td>Sunday</td>\n",
       "      <td>14876.450</td>\n",
       "    </tr>\n",
       "    <tr>\n",
       "      <th>1</th>\n",
       "      <td>14-09-2020</td>\n",
       "      <td>Monday</td>\n",
       "      <td>14864.660</td>\n",
       "    </tr>\n",
       "    <tr>\n",
       "      <th>2</th>\n",
       "      <td>15-09-2020</td>\n",
       "      <td>Tuesday</td>\n",
       "      <td>14843.447</td>\n",
       "    </tr>\n",
       "    <tr>\n",
       "      <th>3</th>\n",
       "      <td>16-09-2020</td>\n",
       "      <td>Wednesday</td>\n",
       "      <td>14807.888</td>\n",
       "    </tr>\n",
       "    <tr>\n",
       "      <th>4</th>\n",
       "      <td>17-09-2020</td>\n",
       "      <td>Thursday</td>\n",
       "      <td>14829.417</td>\n",
       "    </tr>\n",
       "  </tbody>\n",
       "</table>\n",
       "</div>"
      ],
      "text/plain": [
       "         date        day  inflation\n",
       "0  13-09-2020     Sunday  14876.450\n",
       "1  14-09-2020     Monday  14864.660\n",
       "2  15-09-2020    Tuesday  14843.447\n",
       "3  16-09-2020  Wednesday  14807.888\n",
       "4  17-09-2020   Thursday  14829.417"
      ]
     },
     "execution_count": 18,
     "metadata": {},
     "output_type": "execute_result"
    }
   ],
   "source": [
    "df[\"date\"] = df[\"date\"].dt.strftime('%d-%m-%Y')\n",
    "pd.set_option('display.float_format', lambda x: '%.3f' % x)\n",
    "df.head()"
   ]
  },
  {
   "cell_type": "markdown",
   "metadata": {},
   "source": [
    "Do the data cleaning here (please change this markdown with your explanation of what you do for data wrangling)"
   ]
  },
  {
   "cell_type": "code",
   "execution_count": 26,
   "metadata": {
    "scrolled": true
   },
   "outputs": [
    {
     "data": {
      "text/html": [
       "<div>\n",
       "<style scoped>\n",
       "    .dataframe tbody tr th:only-of-type {\n",
       "        vertical-align: middle;\n",
       "    }\n",
       "\n",
       "    .dataframe tbody tr th {\n",
       "        vertical-align: top;\n",
       "    }\n",
       "\n",
       "    .dataframe thead th {\n",
       "        text-align: right;\n",
       "    }\n",
       "</style>\n",
       "<table border=\"1\" class=\"dataframe\">\n",
       "  <thead>\n",
       "    <tr style=\"text-align: right;\">\n",
       "      <th>col_0</th>\n",
       "      <th>Inflations</th>\n",
       "    </tr>\n",
       "    <tr>\n",
       "      <th>day</th>\n",
       "      <th></th>\n",
       "    </tr>\n",
       "  </thead>\n",
       "  <tbody>\n",
       "    <tr>\n",
       "      <th>Monday</th>\n",
       "      <td>14305.766</td>\n",
       "    </tr>\n",
       "    <tr>\n",
       "      <th>Tuesday</th>\n",
       "      <td>14291.571</td>\n",
       "    </tr>\n",
       "    <tr>\n",
       "      <th>Wednesday</th>\n",
       "      <td>14281.669</td>\n",
       "    </tr>\n",
       "    <tr>\n",
       "      <th>Thursday</th>\n",
       "      <td>14296.955</td>\n",
       "    </tr>\n",
       "    <tr>\n",
       "      <th>Friday</th>\n",
       "      <td>14289.538</td>\n",
       "    </tr>\n",
       "  </tbody>\n",
       "</table>\n",
       "</div>"
      ],
      "text/plain": [
       "col_0      Inflations\n",
       "day                  \n",
       "Monday      14305.766\n",
       "Tuesday     14291.571\n",
       "Wednesday   14281.669\n",
       "Thursday    14296.955\n",
       "Friday      14289.538"
      ]
     },
     "execution_count": 26,
     "metadata": {},
     "output_type": "execute_result"
    }
   ],
   "source": [
    "wday = [\"Monday\", \"Tuesday\", \"Wednesday\", \"Thursday\", \"Friday\"]\n",
    "wrg = pd.crosstab(index=df[\"day\"],\n",
    "           columns=\"Inflations\",\n",
    "            values=df[\"inflation\"],\n",
    "            aggfunc=\"mean\")\n",
    "wrg = wrg.reindex(wday)\n",
    "wrg"
   ]
  },
  {
   "cell_type": "code",
   "execution_count": 27,
   "metadata": {},
   "outputs": [],
   "source": [
    "wrg.columns.name=\"Data\""
   ]
  },
  {
   "cell_type": "code",
   "execution_count": 28,
   "metadata": {},
   "outputs": [
    {
     "data": {
      "text/html": [
       "<div>\n",
       "<style scoped>\n",
       "    .dataframe tbody tr th:only-of-type {\n",
       "        vertical-align: middle;\n",
       "    }\n",
       "\n",
       "    .dataframe tbody tr th {\n",
       "        vertical-align: top;\n",
       "    }\n",
       "\n",
       "    .dataframe thead th {\n",
       "        text-align: right;\n",
       "    }\n",
       "</style>\n",
       "<table border=\"1\" class=\"dataframe\">\n",
       "  <thead>\n",
       "    <tr style=\"text-align: right;\">\n",
       "      <th>Data</th>\n",
       "      <th>Inflations</th>\n",
       "    </tr>\n",
       "    <tr>\n",
       "      <th>day</th>\n",
       "      <th></th>\n",
       "    </tr>\n",
       "  </thead>\n",
       "  <tbody>\n",
       "    <tr>\n",
       "      <th>Monday</th>\n",
       "      <td>14305.766</td>\n",
       "    </tr>\n",
       "    <tr>\n",
       "      <th>Tuesday</th>\n",
       "      <td>14291.571</td>\n",
       "    </tr>\n",
       "    <tr>\n",
       "      <th>Wednesday</th>\n",
       "      <td>14281.669</td>\n",
       "    </tr>\n",
       "    <tr>\n",
       "      <th>Thursday</th>\n",
       "      <td>14296.955</td>\n",
       "    </tr>\n",
       "    <tr>\n",
       "      <th>Friday</th>\n",
       "      <td>14289.538</td>\n",
       "    </tr>\n",
       "  </tbody>\n",
       "</table>\n",
       "</div>"
      ],
      "text/plain": [
       "Data       Inflations\n",
       "day                  \n",
       "Monday      14305.766\n",
       "Tuesday     14291.571\n",
       "Wednesday   14281.669\n",
       "Thursday    14296.955\n",
       "Friday      14289.538"
      ]
     },
     "execution_count": 28,
     "metadata": {},
     "output_type": "execute_result"
    }
   ],
   "source": [
    "wrg"
   ]
  },
  {
   "cell_type": "code",
   "execution_count": 29,
   "metadata": {},
   "outputs": [
    {
     "data": {
      "text/plain": [
       "<AxesSubplot:xlabel='Day', ylabel='Inflation Value'>"
      ]
     },
     "execution_count": 29,
     "metadata": {},
     "output_type": "execute_result"
    },
    {
     "data": {
      "image/png": "[encoded data removed]",
      "text/plain": [
       "<Figure size 432x288 with 1 Axes>"
      ]
     },
     "metadata": {
      "needs_background": "light"
     },
     "output_type": "display_data"
    }
   ],
   "source": [
    "#melihat Plot urutan inflasi berdasarkan hari\n",
    "wrg.plot(xlabel=\"Day\",ylabel=\"Inflation Value\")"
   ]
  },
  {
   "cell_type": "code",
   "execution_count": 45,
   "metadata": {},
   "outputs": [
    {
     "data": {
      "text/html": [
       "<div>\n",
       "<style scoped>\n",
       "    .dataframe tbody tr th:only-of-type {\n",
       "        vertical-align: middle;\n",
       "    }\n",
       "\n",
       "    .dataframe tbody tr th {\n",
       "        vertical-align: top;\n",
       "    }\n",
       "\n",
       "    .dataframe thead th {\n",
       "        text-align: right;\n",
       "    }\n",
       "</style>\n",
       "<table border=\"1\" class=\"dataframe\">\n",
       "  <thead>\n",
       "    <tr style=\"text-align: right;\">\n",
       "      <th></th>\n",
       "      <th>date</th>\n",
       "      <th>day</th>\n",
       "      <th>inflation</th>\n",
       "    </tr>\n",
       "  </thead>\n",
       "  <tbody>\n",
       "    <tr>\n",
       "      <th>0</th>\n",
       "      <td>2020-09-13</td>\n",
       "      <td>Sunday</td>\n",
       "      <td>14876.450</td>\n",
       "    </tr>\n",
       "    <tr>\n",
       "      <th>1</th>\n",
       "      <td>2020-09-14</td>\n",
       "      <td>Monday</td>\n",
       "      <td>14864.660</td>\n",
       "    </tr>\n",
       "    <tr>\n",
       "      <th>2</th>\n",
       "      <td>2020-09-15</td>\n",
       "      <td>Tuesday</td>\n",
       "      <td>14843.447</td>\n",
       "    </tr>\n",
       "    <tr>\n",
       "      <th>3</th>\n",
       "      <td>2020-09-16</td>\n",
       "      <td>Wednesday</td>\n",
       "      <td>14807.888</td>\n",
       "    </tr>\n",
       "    <tr>\n",
       "      <th>4</th>\n",
       "      <td>2020-09-17</td>\n",
       "      <td>Thursday</td>\n",
       "      <td>14829.417</td>\n",
       "    </tr>\n",
       "  </tbody>\n",
       "</table>\n",
       "</div>"
      ],
      "text/plain": [
       "        date        day  inflation\n",
       "0 2020-09-13     Sunday  14876.450\n",
       "1 2020-09-14     Monday  14864.660\n",
       "2 2020-09-15    Tuesday  14843.447\n",
       "3 2020-09-16  Wednesday  14807.888\n",
       "4 2020-09-17   Thursday  14829.417"
      ]
     },
     "execution_count": 45,
     "metadata": {},
     "output_type": "execute_result"
    }
   ],
   "source": [
    "wrg2 = df.copy()\n",
    "wrg2[\"date\"] = pd.to_datetime(wrg2[\"date\"])\n",
    "wrg2.head()"
   ]
  },
  {
   "cell_type": "code",
   "execution_count": 46,
   "metadata": {},
   "outputs": [],
   "source": [
    "wrg2[\"date\"] = wrg2[\"date\"].dt.to_period(\"M\")"
   ]
  },
  {
   "cell_type": "code",
   "execution_count": 47,
   "metadata": {},
   "outputs": [
    {
     "data": {
      "text/html": [
       "<div>\n",
       "<style scoped>\n",
       "    .dataframe tbody tr th:only-of-type {\n",
       "        vertical-align: middle;\n",
       "    }\n",
       "\n",
       "    .dataframe tbody tr th {\n",
       "        vertical-align: top;\n",
       "    }\n",
       "\n",
       "    .dataframe thead th {\n",
       "        text-align: right;\n",
       "    }\n",
       "</style>\n",
       "<table border=\"1\" class=\"dataframe\">\n",
       "  <thead>\n",
       "    <tr style=\"text-align: right;\">\n",
       "      <th>col_0</th>\n",
       "      <th>Inflationss</th>\n",
       "    </tr>\n",
       "    <tr>\n",
       "      <th>date</th>\n",
       "      <th></th>\n",
       "    </tr>\n",
       "  </thead>\n",
       "  <tbody>\n",
       "    <tr>\n",
       "      <th>2020-09</th>\n",
       "      <td>14825.336</td>\n",
       "    </tr>\n",
       "    <tr>\n",
       "      <th>2020-10</th>\n",
       "      <td>14698.505</td>\n",
       "    </tr>\n",
       "    <tr>\n",
       "      <th>2020-11</th>\n",
       "      <td>14204.376</td>\n",
       "    </tr>\n",
       "    <tr>\n",
       "      <th>2020-12</th>\n",
       "      <td>14115.666</td>\n",
       "    </tr>\n",
       "    <tr>\n",
       "      <th>2021-01</th>\n",
       "      <td>14041.508</td>\n",
       "    </tr>\n",
       "  </tbody>\n",
       "</table>\n",
       "</div>"
      ],
      "text/plain": [
       "col_0    Inflationss\n",
       "date                \n",
       "2020-09    14825.336\n",
       "2020-10    14698.505\n",
       "2020-11    14204.376\n",
       "2020-12    14115.666\n",
       "2021-01    14041.508"
      ]
     },
     "execution_count": 47,
     "metadata": {},
     "output_type": "execute_result"
    }
   ],
   "source": [
    "wrg2 = pd.crosstab(index=wrg2[\"date\"],\n",
    "                   columns=\"Inflationss\",\n",
    "                   values = wrg2[\"inflation\"],\n",
    "                   aggfunc=\"mean\")\n",
    "wrg2.head()"
   ]
  },
  {
   "cell_type": "code",
   "execution_count": 48,
   "metadata": {},
   "outputs": [],
   "source": [
    "wrg2.columns.name=\"Data\""
   ]
  },
  {
   "cell_type": "code",
   "execution_count": 49,
   "metadata": {},
   "outputs": [
    {
     "data": {
      "text/html": [
       "<div>\n",
       "<style scoped>\n",
       "    .dataframe tbody tr th:only-of-type {\n",
       "        vertical-align: middle;\n",
       "    }\n",
       "\n",
       "    .dataframe tbody tr th {\n",
       "        vertical-align: top;\n",
       "    }\n",
       "\n",
       "    .dataframe thead th {\n",
       "        text-align: right;\n",
       "    }\n",
       "</style>\n",
       "<table border=\"1\" class=\"dataframe\">\n",
       "  <thead>\n",
       "    <tr style=\"text-align: right;\">\n",
       "      <th>Data</th>\n",
       "      <th>Inflationss</th>\n",
       "    </tr>\n",
       "    <tr>\n",
       "      <th>date</th>\n",
       "      <th></th>\n",
       "    </tr>\n",
       "  </thead>\n",
       "  <tbody>\n",
       "    <tr>\n",
       "      <th>2020-09</th>\n",
       "      <td>14825.336</td>\n",
       "    </tr>\n",
       "    <tr>\n",
       "      <th>2020-10</th>\n",
       "      <td>14698.505</td>\n",
       "    </tr>\n",
       "    <tr>\n",
       "      <th>2020-11</th>\n",
       "      <td>14204.376</td>\n",
       "    </tr>\n",
       "    <tr>\n",
       "      <th>2020-12</th>\n",
       "      <td>14115.666</td>\n",
       "    </tr>\n",
       "    <tr>\n",
       "      <th>2021-01</th>\n",
       "      <td>14041.508</td>\n",
       "    </tr>\n",
       "  </tbody>\n",
       "</table>\n",
       "</div>"
      ],
      "text/plain": [
       "Data     Inflationss\n",
       "date                \n",
       "2020-09    14825.336\n",
       "2020-10    14698.505\n",
       "2020-11    14204.376\n",
       "2020-12    14115.666\n",
       "2021-01    14041.508"
      ]
     },
     "execution_count": 49,
     "metadata": {},
     "output_type": "execute_result"
    }
   ],
   "source": [
    "wrg2.head()"
   ]
  },
  {
   "cell_type": "code",
   "execution_count": 50,
   "metadata": {},
   "outputs": [
    {
     "data": {
      "text/plain": [
       "<AxesSubplot:xlabel='Month', ylabel='Inflation Value'>"
      ]
     },
     "execution_count": 50,
     "metadata": {},
     "output_type": "execute_result"
    },
    {
     "data": {
      "image/png": "[encoded data removed]",
      "text/plain": [
       "<Figure size 432x288 with 1 Axes>"
      ]
     },
     "metadata": {
      "needs_background": "light"
     },
     "output_type": "display_data"
    }
   ],
   "source": [
    "#melihat Plot urutan inflasi berdasarkan year-month\n",
    "wrg2.plot(xlabel=\"Month\",ylabel=\"Inflation Value\")"
   ]
  },
  {
   "cell_type": "code",
   "execution_count": 51,
   "metadata": {
    "scrolled": false
   },
   "outputs": [
    {
     "data": {
      "text/html": [
       "<div>\n",
       "<style scoped>\n",
       "    .dataframe tbody tr th:only-of-type {\n",
       "        vertical-align: middle;\n",
       "    }\n",
       "\n",
       "    .dataframe tbody tr th {\n",
       "        vertical-align: top;\n",
       "    }\n",
       "\n",
       "    .dataframe thead th {\n",
       "        text-align: right;\n",
       "    }\n",
       "</style>\n",
       "<table border=\"1\" class=\"dataframe\">\n",
       "  <thead>\n",
       "    <tr style=\"text-align: right;\">\n",
       "      <th>col_0</th>\n",
       "      <th>Inflasi</th>\n",
       "    </tr>\n",
       "    <tr>\n",
       "      <th>date</th>\n",
       "      <th></th>\n",
       "    </tr>\n",
       "  </thead>\n",
       "  <tbody>\n",
       "    <tr>\n",
       "      <th>01-01-2021</th>\n",
       "      <td>14213.675</td>\n",
       "    </tr>\n",
       "    <tr>\n",
       "      <th>01-04-2021</th>\n",
       "      <td>14015.869</td>\n",
       "    </tr>\n",
       "    <tr>\n",
       "      <th>01-05-2021</th>\n",
       "      <td>13906.057</td>\n",
       "    </tr>\n",
       "    <tr>\n",
       "      <th>01-06-2021</th>\n",
       "      <td>13861.515</td>\n",
       "    </tr>\n",
       "    <tr>\n",
       "      <th>01-07-2021</th>\n",
       "      <td>13905.644</td>\n",
       "    </tr>\n",
       "  </tbody>\n",
       "</table>\n",
       "</div>"
      ],
      "text/plain": [
       "col_0        Inflasi\n",
       "date                \n",
       "01-01-2021 14213.675\n",
       "01-04-2021 14015.869\n",
       "01-05-2021 13906.057\n",
       "01-06-2021 13861.515\n",
       "01-07-2021 13905.644"
      ]
     },
     "execution_count": 51,
     "metadata": {},
     "output_type": "execute_result"
    }
   ],
   "source": [
    "wrg3 = pd.crosstab(index=df[\"date\"],\n",
    "           columns=\"Inflasi\",\n",
    "            values=df[\"inflation\"],\n",
    "            aggfunc=\"mean\")\n",
    "wrg3.head()"
   ]
  },
  {
   "cell_type": "code",
   "execution_count": 52,
   "metadata": {},
   "outputs": [],
   "source": [
    "wrg3.columns.name=\"Data\""
   ]
  },
  {
   "cell_type": "code",
   "execution_count": 53,
   "metadata": {},
   "outputs": [
    {
     "data": {
      "text/plain": [
       "<AxesSubplot:xlabel='date'>"
      ]
     },
     "execution_count": 53,
     "metadata": {},
     "output_type": "execute_result"
    },
    {
     "data": {
      "image/png": "[encoded data removed]",
      "text/plain": [
       "<Figure size 432x288 with 1 Axes>"
      ]
     },
     "metadata": {
      "needs_background": "light"
     },
     "output_type": "display_data"
    }
   ],
   "source": [
    "wrg3.plot()"
   ]
  },
  {
   "cell_type": "markdown",
   "metadata": {},
   "source": [
    "### Implementing your webscrapping to the flask dashboard\n",
    "\n",
    "- Copy paste all of your web scrapping process to the desired position on the `app.py`\n",
    "- Changing the title of the dasboard at `index.html`"
   ]
  },
  {
   "cell_type": "markdown",
   "metadata": {},
   "source": [
    "## Finishing This Notebook with Your Analysis and Conclusion\n",
    "\n",
    "First you can do start with making the data visualisation. "
   ]
  },
  {
   "cell_type": "code",
   "execution_count": 54,
   "metadata": {},
   "outputs": [
    {
     "data": {
      "text/plain": [
       "<AxesSubplot:xlabel='Day', ylabel='Inflation Value'>"
      ]
     },
     "execution_count": 54,
     "metadata": {},
     "output_type": "execute_result"
    },
    {
     "data": {
      "image/png": "[encoded data removed]",
      "text/plain": [
       "<Figure size 432x288 with 1 Axes>"
      ]
     },
     "metadata": {
      "needs_background": "light"
     },
     "output_type": "display_data"
    }
   ],
   "source": [
    "#The lowest inflations is on Wednesday\n",
    "wrg.plot(xlabel=\"Day\",ylabel=\"Inflation Value\")"
   ]
  },
  {
   "cell_type": "markdown",
   "metadata": {},
   "source": [
    "\n",
    "(Put your analysis and conclusion here.)"
   ]
  },
  {
   "cell_type": "markdown",
   "metadata": {},
   "source": [
    "### Extra Challange\n",
    "\n",
    "This will be not included to the scoring. \n",
    "\n",
    "- You can create additional analysis from the data.\n",
    "- Implement it to the dashboard with at `app.py` dan `index.html`."
   ]
  },
  {
   "cell_type": "code",
   "execution_count": 55,
   "metadata": {
    "ExecuteTime": {
     "end_time": "2020-01-13T05:20:56.208237Z",
     "start_time": "2020-01-13T05:20:56.076043Z"
    }
   },
   "outputs": [
    {
     "data": {
      "text/plain": [
       "<AxesSubplot:xlabel='Month', ylabel='Inflation Value'>"
      ]
     },
     "execution_count": 55,
     "metadata": {},
     "output_type": "execute_result"
    },
    {
     "data": {
      "image/png": "[encoded data removed]",
      "text/plain": [
       "<Figure size 432x288 with 1 Axes>"
      ]
     },
     "metadata": {
      "needs_background": "light"
     },
     "output_type": "display_data"
    }
   ],
   "source": [
    "#From September-2020 until March-2021 (per-month) inflations down on Jan and up on March\n",
    "wrg2.plot(xlabel=\"Month\",ylabel=\"Inflation Value\")"
   ]
  },
  {
   "cell_type": "code",
   "execution_count": 56,
   "metadata": {
    "scrolled": true
   },
   "outputs": [
    {
     "data": {
      "text/plain": [
       "<AxesSubplot:xlabel='date'>"
      ]
     },
     "execution_count": 56,
     "metadata": {},
     "output_type": "execute_result"
    },
    {
     "data": {
      "image/png": "[encoded data removed]",
      "text/plain": [
       "<Figure size 432x288 with 1 Axes>"
      ]
     },
     "metadata": {
      "needs_background": "light"
     },
     "output_type": "display_data"
    }
   ],
   "source": [
    "#From 6-Sep-2020 until 5-Mar-2021, inflations still fluctuatif\n",
    "wrg3.plot()"
   ]
  }
 ],
 "metadata": {
  "kernelspec": {
   "display_name": "data-analytics",
   "language": "python",
   "name": "data-analytics"
  },
  "language_info": {
   "codemirror_mode": {
    "name": "ipython",
    "version": 3
   },
   "file_extension": ".py",
   "mimetype": "text/x-python",
   "name": "python",
   "nbconvert_exporter": "python",
   "pygments_lexer": "ipython3",
   "version": "3.8.5"
  },
  "toc": {
   "base_numbering": 1,
   "nav_menu": {},
   "number_sections": true,
   "sideBar": true,
   "skip_h1_title": false,
   "title_cell": "Table of Contents",
   "title_sidebar": "Contents",
   "toc_cell": false,
   "toc_position": {},
   "toc_section_display": true,
   "toc_window_display": false
  }
 },
 "nbformat": 4,
 "nbformat_minor": 2
}
